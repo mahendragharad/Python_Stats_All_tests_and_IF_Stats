{
 "cells": [
  {
   "cell_type": "code",
   "execution_count": 1,
   "id": "fea5bc7b",
   "metadata": {},
   "outputs": [],
   "source": [
    "import numpy as np\n",
    "from statistics import mode \n",
    "import statistics as st "
   ]
  },
  {
   "cell_type": "code",
   "execution_count": 2,
   "id": "fb3582ca",
   "metadata": {},
   "outputs": [
    {
     "data": {
      "text/plain": [
       "array([11, 13, 16, 15, 12, 15, 17, 10, 17, 19, 15, 16, 18, 14, 13, 17, 13,\n",
       "       14, 16, 17, 14, 16, 14, 11, 17, 17, 13, 16, 13, 15, 18, 10, 17, 15,\n",
       "       15, 13, 13, 11, 14, 16, 15, 11, 15, 12, 15, 11, 18, 19, 15, 11])"
      ]
     },
     "execution_count": 2,
     "metadata": {},
     "output_type": "execute_result"
    }
   ],
   "source": [
    "# generating the random numbers\n",
    "np.random.randint(10,20,50)"
   ]
  },
  {
   "cell_type": "code",
   "execution_count": 3,
   "id": "7715f35d",
   "metadata": {},
   "outputs": [],
   "source": [
    "population = np.random.randint(10,20,50)"
   ]
  },
  {
   "cell_type": "code",
   "execution_count": 4,
   "id": "cf15b8e4",
   "metadata": {},
   "outputs": [
    {
     "data": {
      "text/plain": [
       "array([16, 18, 19, 16, 15, 17, 18, 13, 13, 19, 17, 11, 14, 10, 10, 12, 12,\n",
       "       15, 19, 14, 11, 14, 17, 19, 14, 13, 14, 16, 13, 15, 19, 16, 19, 14,\n",
       "       18, 16, 11, 13, 19, 18, 10, 17, 19, 10, 15, 10, 13, 15, 13, 13])"
      ]
     },
     "execution_count": 4,
     "metadata": {},
     "output_type": "execute_result"
    }
   ],
   "source": [
    "population"
   ]
  },
  {
   "cell_type": "code",
   "execution_count": 5,
   "id": "619c2ae0",
   "metadata": {},
   "outputs": [],
   "source": [
    "def mean_mode_median(n) :\n",
    "    return np.mean(n) , np.median(n) , st.mode(n)"
   ]
  },
  {
   "cell_type": "code",
   "execution_count": 6,
   "id": "3cb578e1",
   "metadata": {},
   "outputs": [
    {
     "data": {
      "text/plain": [
       "(14.84, 15.0, 19)"
      ]
     },
     "execution_count": 6,
     "metadata": {},
     "output_type": "execute_result"
    }
   ],
   "source": [
    "mean_mode_median(population) "
   ]
  },
  {
   "cell_type": "code",
   "execution_count": 7,
   "id": "04cc79ec",
   "metadata": {},
   "outputs": [
    {
     "data": {
      "text/plain": [
       "19"
      ]
     },
     "execution_count": 7,
     "metadata": {},
     "output_type": "execute_result"
    }
   ],
   "source": [
    "mode(population)"
   ]
  },
  {
   "cell_type": "code",
   "execution_count": 8,
   "id": "ba386094",
   "metadata": {},
   "outputs": [
    {
     "data": {
      "text/plain": [
       "16"
      ]
     },
     "execution_count": 8,
     "metadata": {},
     "output_type": "execute_result"
    }
   ],
   "source": [
    "# To get the random samples from data\n",
    "np.random.choice(population)"
   ]
  },
  {
   "cell_type": "code",
   "execution_count": 9,
   "id": "abc58317",
   "metadata": {},
   "outputs": [],
   "source": [
    "# To get the random samples from data\n",
    "sample = np.random.choice(population,20)"
   ]
  },
  {
   "cell_type": "code",
   "execution_count": 10,
   "id": "3f59aec2",
   "metadata": {},
   "outputs": [],
   "source": [
    "def mean_mode_median(sample) :\n",
    "    return np.mean(sample) , np.median(sample) , st.mode(sample)"
   ]
  },
  {
   "cell_type": "code",
   "execution_count": 11,
   "id": "5e184639",
   "metadata": {},
   "outputs": [
    {
     "data": {
      "text/plain": [
       "(13.6, 14.0, 14)"
      ]
     },
     "execution_count": 11,
     "metadata": {},
     "output_type": "execute_result"
    }
   ],
   "source": [
    "mean_mode_median(sample)"
   ]
  },
  {
   "cell_type": "code",
   "execution_count": 12,
   "id": "87f55050",
   "metadata": {},
   "outputs": [],
   "source": [
    "# getting the 4 random samples \n",
    "sample1 = np.random.choice(population,20)\n",
    "sample2 = np.random.choice(population,20)\n",
    "sample3 = np.random.choice(population,20)\n",
    "sample4 = np.random.choice(population,20)"
   ]
  },
  {
   "cell_type": "code",
   "execution_count": 13,
   "id": "d1717e90",
   "metadata": {},
   "outputs": [
    {
     "name": "stdout",
     "output_type": "stream",
     "text": [
      "[17 16 11 17 19 16 13 19 17 17 16 12 17 19 18 11 13 19 18 13]\n",
      "============================================================\n",
      "[15 19 12 15 10 14 15 14 16 13 12 10 11 13 18 16 19 18 17 16]\n",
      "============================================================\n",
      "[17 18 13 13 11 18 13 10 13 14 14 13 14 16 19 12 19 13 15 17]\n",
      "============================================================\n",
      "[14 10 18 17 15 11 12 13 17 16 16 15 11 19 18 15 10 16 15 18]\n"
     ]
    }
   ],
   "source": [
    "print(sample1)\n",
    "print(60*\"=\")\n",
    "print(sample2)\n",
    "print(60*\"=\")\n",
    "print(sample3)\n",
    "print(60*\"=\")\n",
    "print(sample4)"
   ]
  },
  {
   "cell_type": "code",
   "execution_count": 14,
   "id": "6e6818ec",
   "metadata": {},
   "outputs": [
    {
     "name": "stdout",
     "output_type": "stream",
     "text": [
      "[15.9, 14.65, 14.6, 14.8]\n"
     ]
    }
   ],
   "source": [
    "samples = [sample1 , sample2 , sample3 , sample4 ]\n",
    "x = [np.mean(x) for x in samples]\n",
    "print(x)"
   ]
  },
  {
   "cell_type": "markdown",
   "id": "1f375045",
   "metadata": {},
   "source": [
    "#### Central Limit Theorem"
   ]
  },
  {
   "cell_type": "code",
   "execution_count": 15,
   "id": "d48a6f71",
   "metadata": {},
   "outputs": [],
   "source": [
    "# Taking the data whhich follows the binomial \n",
    "# distribution\n",
    "population = np.random.binomial(10.5 , 0.5 , 10000)"
   ]
  },
  {
   "cell_type": "code",
   "execution_count": 16,
   "id": "ea1683ca",
   "metadata": {},
   "outputs": [
    {
     "data": {
      "text/plain": [
       "10000"
      ]
     },
     "execution_count": 16,
     "metadata": {},
     "output_type": "execute_result"
    }
   ],
   "source": [
    "len(population)"
   ]
  },
  {
   "cell_type": "code",
   "execution_count": 17,
   "id": "faf0a38a",
   "metadata": {},
   "outputs": [
    {
     "name": "stderr",
     "output_type": "stream",
     "text": [
      "C:\\Users\\mahen\\anaconda3\\lib\\site-packages\\seaborn\\distributions.py:2619: FutureWarning: `distplot` is a deprecated function and will be removed in a future version. Please adapt your code to use either `displot` (a figure-level function with similar flexibility) or `histplot` (an axes-level function for histograms).\n",
      "  warnings.warn(msg, FutureWarning)\n"
     ]
    },
    {
     "data": {
      "text/plain": [
       "<AxesSubplot:ylabel='Density'>"
      ]
     },
     "execution_count": 17,
     "metadata": {},
     "output_type": "execute_result"
    },
    {
     "data": {
      "image/png": "[encoded data removed]",
      "text/plain": [
       "<Figure size 640x480 with 1 Axes>"
      ]
     },
     "metadata": {},
     "output_type": "display_data"
    }
   ],
   "source": [
    "# Here we can see that the above data follows the binomial dist\n",
    "import seaborn as sns\n",
    "sns.distplot(population)"
   ]
  },
  {
   "cell_type": "code",
   "execution_count": 18,
   "id": "267f1450",
   "metadata": {},
   "outputs": [
    {
     "data": {
      "text/plain": [
       "10000"
      ]
     },
     "execution_count": 18,
     "metadata": {},
     "output_type": "execute_result"
    }
   ],
   "source": [
    "len(population)"
   ]
  },
  {
   "cell_type": "code",
   "execution_count": 19,
   "id": "3145b490",
   "metadata": {},
   "outputs": [
    {
     "data": {
      "text/plain": [
       "3000.0"
      ]
     },
     "execution_count": 19,
     "metadata": {},
     "output_type": "execute_result"
    }
   ],
   "source": [
    "len(population)*0.30"
   ]
  },
  {
   "cell_type": "code",
   "execution_count": 20,
   "id": "46e9ab8c",
   "metadata": {},
   "outputs": [
    {
     "data": {
      "text/plain": [
       "3000"
      ]
     },
     "execution_count": 20,
     "metadata": {},
     "output_type": "execute_result"
    }
   ],
   "source": [
    "int(len(population)*0.30)"
   ]
  },
  {
   "cell_type": "code",
   "execution_count": 21,
   "id": "546764ae",
   "metadata": {},
   "outputs": [],
   "source": [
    "size = int(len(population)*0.30)"
   ]
  },
  {
   "cell_type": "code",
   "execution_count": 22,
   "id": "bb8f5ec0",
   "metadata": {},
   "outputs": [
    {
     "name": "stdout",
     "output_type": "stream",
     "text": [
      "[5 5 4 ... 6 6 8]\n",
      "[4 7 3 ... 6 5 6]\n",
      "[10  5  5 ...  5  6  5]\n",
      "[4 4 5 ... 6 9 4]\n",
      "[6 3 5 ... 7 5 7]\n",
      "[3 4 8 ... 4 4 5]\n",
      "[5 4 6 ... 1 4 7]\n",
      "[6 2 4 ... 6 2 4]\n",
      "[9 7 3 ... 6 4 6]\n",
      "[3 5 5 ... 4 3 4]\n",
      "[4 3 6 ... 4 7 4]\n",
      "[6 4 5 ... 7 4 5]\n",
      "[1 4 3 ... 5 6 8]\n",
      "[5 5 3 ... 8 3 6]\n",
      "[6 6 8 ... 7 2 4]\n",
      "[6 8 2 ... 5 4 4]\n",
      "[7 8 4 ... 4 5 5]\n",
      "[5 5 3 ... 9 2 4]\n",
      "[4 4 3 ... 7 6 6]\n",
      "[2 4 6 ... 4 4 8]\n",
      "[5 4 6 ... 8 5 5]\n",
      "[5 5 3 ... 6 2 4]\n",
      "[4 3 3 ... 6 4 2]\n",
      "[4 4 7 ... 5 6 4]\n",
      "[3 4 4 ... 5 5 7]\n",
      "[4 6 5 ... 3 2 4]\n",
      "[6 5 8 ... 6 4 5]\n",
      "[7 6 5 ... 3 5 6]\n",
      "[3 3 3 ... 4 9 7]\n",
      "[4 5 8 ... 5 3 7]\n"
     ]
    }
   ],
   "source": [
    "# Getting the 30 samples from the dataset\n",
    "# and inserting the 3000 data points in each sample\n",
    "\n",
    "for i in range(1,31) :\n",
    "     print(np.random.choice(population , size = size))"
   ]
  },
  {
   "cell_type": "code",
   "execution_count": 23,
   "id": "f59fa53f",
   "metadata": {},
   "outputs": [
    {
     "name": "stdout",
     "output_type": "stream",
     "text": [
      "5.001333333333333\n",
      "5.028666666666667\n",
      "5.015333333333333\n",
      "5.016\n",
      "4.956\n",
      "5.022666666666667\n",
      "5.042333333333334\n",
      "5.025\n",
      "5.038666666666667\n",
      "4.9656666666666665\n",
      "5.041\n",
      "5.0376666666666665\n",
      "5.053\n",
      "4.996\n",
      "5.01\n",
      "5.037333333333334\n",
      "5.004666666666667\n",
      "5.045333333333334\n",
      "5.001333333333333\n",
      "5.027666666666667\n",
      "5.015\n",
      "4.999333333333333\n",
      "5.015666666666666\n",
      "5.000666666666667\n",
      "5.017\n",
      "4.984666666666667\n",
      "5.003\n",
      "5.021\n",
      "4.985\n",
      "5.032333333333334\n"
     ]
    }
   ],
   "source": [
    "# computing the sample mean of all the 30 samples \n",
    "for i in range(1,31) :\n",
    "    print(np.mean(np.random.choice(population , size = 3000)))"
   ]
  },
  {
   "cell_type": "code",
   "execution_count": 24,
   "id": "0ca8591b",
   "metadata": {},
   "outputs": [],
   "source": [
    "# Another way to compute the mean of all 30 samples \n",
    "x = [np.mean(np.random.choice(population , size = size)) for i in range(1,31)]\n"
   ]
  },
  {
   "cell_type": "code",
   "execution_count": 25,
   "id": "4e19343d",
   "metadata": {},
   "outputs": [
    {
     "name": "stderr",
     "output_type": "stream",
     "text": [
      "C:\\Users\\mahen\\anaconda3\\lib\\site-packages\\seaborn\\distributions.py:2619: FutureWarning: `distplot` is a deprecated function and will be removed in a future version. Please adapt your code to use either `displot` (a figure-level function with similar flexibility) or `histplot` (an axes-level function for histograms).\n",
      "  warnings.warn(msg, FutureWarning)\n"
     ]
    },
    {
     "data": {
      "text/plain": [
       "<AxesSubplot:ylabel='Density'>"
      ]
     },
     "execution_count": 25,
     "metadata": {},
     "output_type": "execute_result"
    },
    {
     "data": {
      "image/png": "[encoded data removed]",
      "text/plain": [
       "<Figure size 640x480 with 1 Axes>"
      ]
     },
     "metadata": {},
     "output_type": "display_data"
    }
   ],
   "source": [
    "# see the complete normal distribution \n",
    "sns.distplot(x)"
   ]
  },
  {
   "cell_type": "code",
   "execution_count": 26,
   "id": "57480278",
   "metadata": {},
   "outputs": [],
   "source": [
    "# If the size of the sample is high it produce more\n",
    "# accurate normal distribution\n",
    "\n",
    "y = [np.mean(np.random.choice(population , size = size)) for i in range(1,2000)]\n"
   ]
  },
  {
   "cell_type": "code",
   "execution_count": 44,
   "id": "36cd7a18",
   "metadata": {},
   "outputs": [],
   "source": [
    "sample_mean = np.mean(y)"
   ]
  },
  {
   "cell_type": "code",
   "execution_count": 46,
   "id": "d880433d",
   "metadata": {},
   "outputs": [
    {
     "name": "stderr",
     "output_type": "stream",
     "text": [
      "C:\\Users\\mahen\\anaconda3\\lib\\site-packages\\seaborn\\distributions.py:2619: FutureWarning: `distplot` is a deprecated function and will be removed in a future version. Please adapt your code to use either `displot` (a figure-level function with similar flexibility) or `histplot` (an axes-level function for histograms).\n",
      "  warnings.warn(msg, FutureWarning)\n"
     ]
    },
    {
     "data": {
      "text/plain": [
       "<AxesSubplot:ylabel='Density'>"
      ]
     },
     "execution_count": 46,
     "metadata": {},
     "output_type": "execute_result"
    },
    {
     "data": {
      "image/png": "[encoded data removed]",
      "text/plain": [
       "<Figure size 640x480 with 1 Axes>"
      ]
     },
     "metadata": {},
     "output_type": "display_data"
    }
   ],
   "source": [
    "sns.distplot(y)"
   ]
  },
  {
   "cell_type": "markdown",
   "id": "fda1847d",
   "metadata": {},
   "source": [
    "### Types of sampling \n",
    "1 Random sampling \n",
    "2 cluster sampling \n",
    "3 systematic sampling \n",
    "4 startiferred sampling "
   ]
  },
  {
   "cell_type": "markdown",
   "id": "14bb0062",
   "metadata": {},
   "source": [
    "### 2nd Topic Confidance Interval And Margin Of Error "
   ]
  },
  {
   "cell_type": "code",
   "execution_count": 58,
   "id": "5b619dee",
   "metadata": {},
   "outputs": [],
   "source": [
    "population = np.random.randint(10,20,50)"
   ]
  },
  {
   "cell_type": "code",
   "execution_count": 59,
   "id": "93cd20a9",
   "metadata": {},
   "outputs": [
    {
     "data": {
      "text/plain": [
       "array([18, 15, 12, 13, 10, 19, 17, 12, 12, 17, 15, 12, 17, 11, 14, 17, 15,\n",
       "       10, 10, 16, 16, 12, 16, 14, 19, 14, 17, 17, 15, 14, 12, 10, 13, 10,\n",
       "       19, 10, 19, 15, 11, 10, 18, 17, 17, 17, 12, 18, 17, 19, 13, 16])"
      ]
     },
     "execution_count": 59,
     "metadata": {},
     "output_type": "execute_result"
    }
   ],
   "source": [
    "population"
   ]
  },
  {
   "cell_type": "code",
   "execution_count": 60,
   "id": "fd7eb721",
   "metadata": {},
   "outputs": [],
   "source": [
    "sample1 = np.random.choice(population,20)\n",
    "sample2 = np.random.choice(population,20)\n",
    "sample3 = np.random.choice(population,20)\n",
    "sample4 = np.random.choice(population,20)"
   ]
  },
  {
   "cell_type": "code",
   "execution_count": 63,
   "id": "1a218249",
   "metadata": {},
   "outputs": [],
   "source": [
    "mean_of_samples = [np.mean(x) for x in samples]"
   ]
  },
  {
   "cell_type": "code",
   "execution_count": 64,
   "id": "6cb916fd",
   "metadata": {},
   "outputs": [
    {
     "data": {
      "text/plain": [
       "[15.9, 14.65, 14.6, 14.8]"
      ]
     },
     "execution_count": 64,
     "metadata": {},
     "output_type": "execute_result"
    }
   ],
   "source": [
    "mean_of_samples"
   ]
  },
  {
   "cell_type": "code",
   "execution_count": 30,
   "id": "d4dabed0",
   "metadata": {},
   "outputs": [],
   "source": [
    "import scipy.stats as stats"
   ]
  },
  {
   "cell_type": "code",
   "execution_count": 31,
   "id": "35a169eb",
   "metadata": {},
   "outputs": [
    {
     "data": {
      "text/plain": [
       "1.6448536269514722"
      ]
     },
     "execution_count": 31,
     "metadata": {},
     "output_type": "execute_result"
    }
   ],
   "source": [
    "# In Python, you can use the stats.norm.ppf() \n",
    "# function from the SciPy library to calculate the z-score.\n",
    "\n",
    "stats.norm.ppf(q=0.95)"
   ]
  },
  {
   "cell_type": "code",
   "execution_count": 47,
   "id": "35153b9d",
   "metadata": {},
   "outputs": [],
   "source": [
    "z_critical = stats.norm.ppf(q=0.975)"
   ]
  },
  {
   "cell_type": "code",
   "execution_count": 48,
   "id": "d32dca83",
   "metadata": {},
   "outputs": [
    {
     "data": {
      "text/plain": [
       "1.959963984540054"
      ]
     },
     "execution_count": 48,
     "metadata": {},
     "output_type": "execute_result"
    }
   ],
   "source": [
    "z_critical"
   ]
  },
  {
   "cell_type": "code",
   "execution_count": 49,
   "id": "0348e7d2",
   "metadata": {},
   "outputs": [],
   "source": [
    "t_critical = stats.t.ppf(q=0.975 , df = 24 )"
   ]
  },
  {
   "cell_type": "code",
   "execution_count": 50,
   "id": "7b1c4af6",
   "metadata": {},
   "outputs": [
    {
     "data": {
      "text/plain": [
       "2.0638985616280205"
      ]
     },
     "execution_count": 50,
     "metadata": {},
     "output_type": "execute_result"
    }
   ],
   "source": [
    "t_critical"
   ]
  },
  {
   "cell_type": "code",
   "execution_count": 65,
   "id": "4ac99ab2",
   "metadata": {},
   "outputs": [],
   "source": [
    "margin_of_error = z_critical * (np.std(mean_of_samples) / np.sqrt(20))"
   ]
  },
  {
   "cell_type": "code",
   "execution_count": 66,
   "id": "8894ae76",
   "metadata": {},
   "outputs": [],
   "source": [
    "lower_range = np.mean(mean_of_samples) - margin_of_error"
   ]
  },
  {
   "cell_type": "code",
   "execution_count": 67,
   "id": "a5775e81",
   "metadata": {},
   "outputs": [
    {
     "data": {
      "text/plain": [
       "14.754367762775257"
      ]
     },
     "execution_count": 67,
     "metadata": {},
     "output_type": "execute_result"
    }
   ],
   "source": [
    "lower_range"
   ]
  },
  {
   "cell_type": "code",
   "execution_count": 68,
   "id": "16d43f1a",
   "metadata": {},
   "outputs": [],
   "source": [
    "higher_range = np.mean(mean_of_samples) + margin_of_error"
   ]
  },
  {
   "cell_type": "code",
   "execution_count": 69,
   "id": "32bdd49e",
   "metadata": {},
   "outputs": [
    {
     "data": {
      "text/plain": [
       "15.220632237224745"
      ]
     },
     "execution_count": 69,
     "metadata": {},
     "output_type": "execute_result"
    }
   ],
   "source": [
    "higher_range"
   ]
  },
  {
   "cell_type": "markdown",
   "id": "9896bcac",
   "metadata": {},
   "source": [
    "### Z - test "
   ]
  },
  {
   "cell_type": "code",
   "execution_count": 99,
   "id": "54a8943c",
   "metadata": {},
   "outputs": [],
   "source": [
    "# It always generate the normally\n",
    "# distributed data\n",
    "from numpy.random import randn\n",
    "population = randn(100)"
   ]
  },
  {
   "cell_type": "code",
   "execution_count": 100,
   "id": "b9949495",
   "metadata": {},
   "outputs": [
    {
     "data": {
      "text/plain": [
       "array([-0.00446759, -0.41758829,  0.61625937,  1.10871925, -0.51878213,\n",
       "       -1.00701024,  0.5163193 , -1.50914659,  0.69783416,  0.18819255,\n",
       "        2.17674016,  1.23057348,  2.717998  , -1.37576365,  1.58016047,\n",
       "        2.14361295, -0.9789874 , -1.36334104, -1.59405607,  0.54148536,\n",
       "        0.77465566, -1.29039484,  0.44134623, -0.07541289,  2.28613423,\n",
       "        1.84969808,  0.35673811,  2.48454101,  0.02091838, -0.36570784,\n",
       "       -0.84137202, -0.80796662, -0.26364799,  0.51495357, -0.12405884,\n",
       "       -0.68325696,  1.39610773,  0.57574546,  1.33562677,  0.33111838,\n",
       "        0.1121434 ,  0.46592989,  0.40359919, -1.51354668,  0.2704229 ,\n",
       "        2.10789791, -1.36721342,  0.89353507, -1.19310164, -0.67641168,\n",
       "       -1.24263115,  0.75848545, -0.77953784, -0.9510583 ,  1.04654324,\n",
       "        0.28788884, -0.10573349,  2.03775153,  0.62359884, -1.14040575,\n",
       "       -0.22139762, -1.40112113,  0.89612929,  1.02525087,  1.46869791,\n",
       "       -1.81267444, -1.78488887,  0.16708138,  0.21022067, -0.53414108,\n",
       "        0.40283964, -0.88604421, -1.55629085,  0.1359142 ,  0.72039486,\n",
       "       -1.59445804,  1.79711203,  0.30890707,  1.4043433 ,  1.53853291,\n",
       "        0.31422694, -0.10277594, -0.78036607,  0.08437973,  1.61437906,\n",
       "        0.71962905, -0.22657699,  0.74805359, -0.87273325, -1.00173459,\n",
       "        0.55669416,  0.36941052, -1.9690958 , -2.47792357, -2.14177877,\n",
       "       -1.24489866,  0.71311542, -1.9373325 ,  0.55049398, -0.73453557])"
      ]
     },
     "execution_count": 100,
     "metadata": {},
     "output_type": "execute_result"
    }
   ],
   "source": [
    "population"
   ]
  },
  {
   "cell_type": "code",
   "execution_count": 101,
   "id": "446b5b9e",
   "metadata": {},
   "outputs": [
    {
     "name": "stderr",
     "output_type": "stream",
     "text": [
      "C:\\Users\\mahen\\anaconda3\\lib\\site-packages\\seaborn\\distributions.py:2619: FutureWarning: `distplot` is a deprecated function and will be removed in a future version. Please adapt your code to use either `displot` (a figure-level function with similar flexibility) or `histplot` (an axes-level function for histograms).\n",
      "  warnings.warn(msg, FutureWarning)\n"
     ]
    },
    {
     "data": {
      "text/plain": [
       "<AxesSubplot:ylabel='Density'>"
      ]
     },
     "execution_count": 101,
     "metadata": {},
     "output_type": "execute_result"
    },
    {
     "data": {
      "image/png": "[encoded data removed]",
      "text/plain": [
       "<Figure size 640x480 with 1 Axes>"
      ]
     },
     "metadata": {},
     "output_type": "display_data"
    }
   ],
   "source": [
    "sns.distplot(population)"
   ]
  },
  {
   "cell_type": "code",
   "execution_count": 102,
   "id": "4a32fe0c",
   "metadata": {},
   "outputs": [
    {
     "name": "stdout",
     "output_type": "stream",
     "text": [
      " Mean : 0.05167712547124049 , Std Dev : 1.1633984724461388\n"
     ]
    }
   ],
   "source": [
    "print(f\" Mean : {np.mean(population)} , Std Dev : {np.std(population)}\")"
   ]
  },
  {
   "cell_type": "markdown",
   "id": "abcd87e4",
   "metadata": {},
   "source": [
    "#### [Pvalue <= ALPHA_value ] => WE ARE GOING TO REJECT THE NULL HYPHOTHESIS\n",
    "#### [ Pvalue > ALPHA_value ] => WE ARE GOING TO ACCEPT THE NULL HYPHOTHESIS"
   ]
  },
  {
   "cell_type": "code",
   "execution_count": 103,
   "id": "d13ef663",
   "metadata": {},
   "outputs": [],
   "source": [
    "null_mean =  0.051"
   ]
  },
  {
   "cell_type": "code",
   "execution_count": 108,
   "id": "97bdf861",
   "metadata": {},
   "outputs": [],
   "source": [
    "alpha = 0.05"
   ]
  },
  {
   "cell_type": "code",
   "execution_count": 104,
   "id": "79a0f95d",
   "metadata": {},
   "outputs": [],
   "source": [
    "# computing Z - test\n",
    "from statsmodels.stats.weightstats import ztest\n",
    "z_score,p_value=ztest(population,value=null_mean,alternative='larger')"
   ]
  },
  {
   "cell_type": "code",
   "execution_count": 105,
   "id": "f2e75e81",
   "metadata": {},
   "outputs": [
    {
     "data": {
      "text/plain": [
       "0.4976897131970973"
      ]
     },
     "execution_count": 105,
     "metadata": {},
     "output_type": "execute_result"
    }
   ],
   "source": [
    "p_value"
   ]
  },
  {
   "cell_type": "code",
   "execution_count": 106,
   "id": "08d78575",
   "metadata": {},
   "outputs": [
    {
     "data": {
      "text/plain": [
       "0.0057910625910709244"
      ]
     },
     "execution_count": 106,
     "metadata": {},
     "output_type": "execute_result"
    }
   ],
   "source": [
    "z_score"
   ]
  },
  {
   "cell_type": "code",
   "execution_count": 110,
   "id": "ba502efb",
   "metadata": {},
   "outputs": [
    {
     "name": "stdout",
     "output_type": "stream",
     "text": [
      "we fail to rejct the null hypothesis\n"
     ]
    }
   ],
   "source": [
    "if (p_value < alpha) :\n",
    "    print(\"we reject the null hyphothesis\")\n",
    "else :\n",
    "    print(\"we fail to rejct the null hypothesis\")"
   ]
  },
  {
   "cell_type": "markdown",
   "id": "f3882f97",
   "metadata": {},
   "source": [
    "### Python Implementation of stats lecture \n",
    "\n",
    "### Topics\n",
    "\n",
    "#### 1. How to check the normality of the data \n",
    "#### 2. Z - test\n",
    "#### 3. T - test\n",
    "#### 4. Annova - test\n",
    "#### 5. Chi-Squre - test "
   ]
  },
  {
   "cell_type": "code",
   "execution_count": 1,
   "id": "2bc84580",
   "metadata": {},
   "outputs": [],
   "source": [
    "# Let's start\n",
    "#import the dataset\n",
    "import pandas as pd\n",
    "data=pd.read_csv(\"https://raw.githubusercontent.com/shrikant-temburwar/Wine-Quality-Dataset/master/winequality-red.csv\",sep=';')\n",
    "# sep = ; --> Separate the dataset by this semicolon"
   ]
  },
  {
   "cell_type": "code",
   "execution_count": 2,
   "id": "dc8abac8",
   "metadata": {},
   "outputs": [
    {
     "data": {
      "text/html": [
       "<div>\n",
       "<style scoped>\n",
       "    .dataframe tbody tr th:only-of-type {\n",
       "        vertical-align: middle;\n",
       "    }\n",
       "\n",
       "    .dataframe tbody tr th {\n",
       "        vertical-align: top;\n",
       "    }\n",
       "\n",
       "    .dataframe thead th {\n",
       "        text-align: right;\n",
       "    }\n",
       "</style>\n",
       "<table border=\"1\" class=\"dataframe\">\n",
       "  <thead>\n",
       "    <tr style=\"text-align: right;\">\n",
       "      <th></th>\n",
       "      <th>fixed acidity</th>\n",
       "      <th>volatile acidity</th>\n",
       "      <th>citric acid</th>\n",
       "      <th>residual sugar</th>\n",
       "      <th>chlorides</th>\n",
       "      <th>free sulfur dioxide</th>\n",
       "      <th>total sulfur dioxide</th>\n",
       "      <th>density</th>\n",
       "      <th>pH</th>\n",
       "      <th>sulphates</th>\n",
       "      <th>alcohol</th>\n",
       "      <th>quality</th>\n",
       "    </tr>\n",
       "  </thead>\n",
       "  <tbody>\n",
       "    <tr>\n",
       "      <th>0</th>\n",
       "      <td>7.4</td>\n",
       "      <td>0.700</td>\n",
       "      <td>0.00</td>\n",
       "      <td>1.9</td>\n",
       "      <td>0.076</td>\n",
       "      <td>11.0</td>\n",
       "      <td>34.0</td>\n",
       "      <td>0.99780</td>\n",
       "      <td>3.51</td>\n",
       "      <td>0.56</td>\n",
       "      <td>9.4</td>\n",
       "      <td>5</td>\n",
       "    </tr>\n",
       "    <tr>\n",
       "      <th>1</th>\n",
       "      <td>7.8</td>\n",
       "      <td>0.880</td>\n",
       "      <td>0.00</td>\n",
       "      <td>2.6</td>\n",
       "      <td>0.098</td>\n",
       "      <td>25.0</td>\n",
       "      <td>67.0</td>\n",
       "      <td>0.99680</td>\n",
       "      <td>3.20</td>\n",
       "      <td>0.68</td>\n",
       "      <td>9.8</td>\n",
       "      <td>5</td>\n",
       "    </tr>\n",
       "    <tr>\n",
       "      <th>2</th>\n",
       "      <td>7.8</td>\n",
       "      <td>0.760</td>\n",
       "      <td>0.04</td>\n",
       "      <td>2.3</td>\n",
       "      <td>0.092</td>\n",
       "      <td>15.0</td>\n",
       "      <td>54.0</td>\n",
       "      <td>0.99700</td>\n",
       "      <td>3.26</td>\n",
       "      <td>0.65</td>\n",
       "      <td>9.8</td>\n",
       "      <td>5</td>\n",
       "    </tr>\n",
       "    <tr>\n",
       "      <th>3</th>\n",
       "      <td>11.2</td>\n",
       "      <td>0.280</td>\n",
       "      <td>0.56</td>\n",
       "      <td>1.9</td>\n",
       "      <td>0.075</td>\n",
       "      <td>17.0</td>\n",
       "      <td>60.0</td>\n",
       "      <td>0.99800</td>\n",
       "      <td>3.16</td>\n",
       "      <td>0.58</td>\n",
       "      <td>9.8</td>\n",
       "      <td>6</td>\n",
       "    </tr>\n",
       "    <tr>\n",
       "      <th>4</th>\n",
       "      <td>7.4</td>\n",
       "      <td>0.700</td>\n",
       "      <td>0.00</td>\n",
       "      <td>1.9</td>\n",
       "      <td>0.076</td>\n",
       "      <td>11.0</td>\n",
       "      <td>34.0</td>\n",
       "      <td>0.99780</td>\n",
       "      <td>3.51</td>\n",
       "      <td>0.56</td>\n",
       "      <td>9.4</td>\n",
       "      <td>5</td>\n",
       "    </tr>\n",
       "    <tr>\n",
       "      <th>...</th>\n",
       "      <td>...</td>\n",
       "      <td>...</td>\n",
       "      <td>...</td>\n",
       "      <td>...</td>\n",
       "      <td>...</td>\n",
       "      <td>...</td>\n",
       "      <td>...</td>\n",
       "      <td>...</td>\n",
       "      <td>...</td>\n",
       "      <td>...</td>\n",
       "      <td>...</td>\n",
       "      <td>...</td>\n",
       "    </tr>\n",
       "    <tr>\n",
       "      <th>1594</th>\n",
       "      <td>6.2</td>\n",
       "      <td>0.600</td>\n",
       "      <td>0.08</td>\n",
       "      <td>2.0</td>\n",
       "      <td>0.090</td>\n",
       "      <td>32.0</td>\n",
       "      <td>44.0</td>\n",
       "      <td>0.99490</td>\n",
       "      <td>3.45</td>\n",
       "      <td>0.58</td>\n",
       "      <td>10.5</td>\n",
       "      <td>5</td>\n",
       "    </tr>\n",
       "    <tr>\n",
       "      <th>1595</th>\n",
       "      <td>5.9</td>\n",
       "      <td>0.550</td>\n",
       "      <td>0.10</td>\n",
       "      <td>2.2</td>\n",
       "      <td>0.062</td>\n",
       "      <td>39.0</td>\n",
       "      <td>51.0</td>\n",
       "      <td>0.99512</td>\n",
       "      <td>3.52</td>\n",
       "      <td>0.76</td>\n",
       "      <td>11.2</td>\n",
       "      <td>6</td>\n",
       "    </tr>\n",
       "    <tr>\n",
       "      <th>1596</th>\n",
       "      <td>6.3</td>\n",
       "      <td>0.510</td>\n",
       "      <td>0.13</td>\n",
       "      <td>2.3</td>\n",
       "      <td>0.076</td>\n",
       "      <td>29.0</td>\n",
       "      <td>40.0</td>\n",
       "      <td>0.99574</td>\n",
       "      <td>3.42</td>\n",
       "      <td>0.75</td>\n",
       "      <td>11.0</td>\n",
       "      <td>6</td>\n",
       "    </tr>\n",
       "    <tr>\n",
       "      <th>1597</th>\n",
       "      <td>5.9</td>\n",
       "      <td>0.645</td>\n",
       "      <td>0.12</td>\n",
       "      <td>2.0</td>\n",
       "      <td>0.075</td>\n",
       "      <td>32.0</td>\n",
       "      <td>44.0</td>\n",
       "      <td>0.99547</td>\n",
       "      <td>3.57</td>\n",
       "      <td>0.71</td>\n",
       "      <td>10.2</td>\n",
       "      <td>5</td>\n",
       "    </tr>\n",
       "    <tr>\n",
       "      <th>1598</th>\n",
       "      <td>6.0</td>\n",
       "      <td>0.310</td>\n",
       "      <td>0.47</td>\n",
       "      <td>3.6</td>\n",
       "      <td>0.067</td>\n",
       "      <td>18.0</td>\n",
       "      <td>42.0</td>\n",
       "      <td>0.99549</td>\n",
       "      <td>3.39</td>\n",
       "      <td>0.66</td>\n",
       "      <td>11.0</td>\n",
       "      <td>6</td>\n",
       "    </tr>\n",
       "  </tbody>\n",
       "</table>\n",
       "<p>1599 rows × 12 columns</p>\n",
       "</div>"
      ],
      "text/plain": [
       "      fixed acidity  volatile acidity  citric acid  residual sugar  chlorides  \\\n",
       "0               7.4             0.700         0.00             1.9      0.076   \n",
       "1               7.8             0.880         0.00             2.6      0.098   \n",
       "2               7.8             0.760         0.04             2.3      0.092   \n",
       "3              11.2             0.280         0.56             1.9      0.075   \n",
       "4               7.4             0.700         0.00             1.9      0.076   \n",
       "...             ...               ...          ...             ...        ...   \n",
       "1594            6.2             0.600         0.08             2.0      0.090   \n",
       "1595            5.9             0.550         0.10             2.2      0.062   \n",
       "1596            6.3             0.510         0.13             2.3      0.076   \n",
       "1597            5.9             0.645         0.12             2.0      0.075   \n",
       "1598            6.0             0.310         0.47             3.6      0.067   \n",
       "\n",
       "      free sulfur dioxide  total sulfur dioxide  density    pH  sulphates  \\\n",
       "0                    11.0                  34.0  0.99780  3.51       0.56   \n",
       "1                    25.0                  67.0  0.99680  3.20       0.68   \n",
       "2                    15.0                  54.0  0.99700  3.26       0.65   \n",
       "3                    17.0                  60.0  0.99800  3.16       0.58   \n",
       "4                    11.0                  34.0  0.99780  3.51       0.56   \n",
       "...                   ...                   ...      ...   ...        ...   \n",
       "1594                 32.0                  44.0  0.99490  3.45       0.58   \n",
       "1595                 39.0                  51.0  0.99512  3.52       0.76   \n",
       "1596                 29.0                  40.0  0.99574  3.42       0.75   \n",
       "1597                 32.0                  44.0  0.99547  3.57       0.71   \n",
       "1598                 18.0                  42.0  0.99549  3.39       0.66   \n",
       "\n",
       "      alcohol  quality  \n",
       "0         9.4        5  \n",
       "1         9.8        5  \n",
       "2         9.8        5  \n",
       "3         9.8        6  \n",
       "4         9.4        5  \n",
       "...       ...      ...  \n",
       "1594     10.5        5  \n",
       "1595     11.2        6  \n",
       "1596     11.0        6  \n",
       "1597     10.2        5  \n",
       "1598     11.0        6  \n",
       "\n",
       "[1599 rows x 12 columns]"
      ]
     },
     "execution_count": 2,
     "metadata": {},
     "output_type": "execute_result"
    }
   ],
   "source": [
    "data"
   ]
  },
  {
   "cell_type": "code",
   "execution_count": 3,
   "id": "385a79b6",
   "metadata": {},
   "outputs": [],
   "source": [
    "data_copy = data.copy()"
   ]
  },
  {
   "cell_type": "code",
   "execution_count": 4,
   "id": "689e18a5",
   "metadata": {},
   "outputs": [
    {
     "data": {
      "text/html": [
       "<div>\n",
       "<style scoped>\n",
       "    .dataframe tbody tr th:only-of-type {\n",
       "        vertical-align: middle;\n",
       "    }\n",
       "\n",
       "    .dataframe tbody tr th {\n",
       "        vertical-align: top;\n",
       "    }\n",
       "\n",
       "    .dataframe thead th {\n",
       "        text-align: right;\n",
       "    }\n",
       "</style>\n",
       "<table border=\"1\" class=\"dataframe\">\n",
       "  <thead>\n",
       "    <tr style=\"text-align: right;\">\n",
       "      <th></th>\n",
       "      <th>fixed acidity</th>\n",
       "      <th>volatile acidity</th>\n",
       "      <th>citric acid</th>\n",
       "      <th>residual sugar</th>\n",
       "      <th>chlorides</th>\n",
       "      <th>free sulfur dioxide</th>\n",
       "      <th>total sulfur dioxide</th>\n",
       "      <th>density</th>\n",
       "      <th>pH</th>\n",
       "      <th>sulphates</th>\n",
       "      <th>alcohol</th>\n",
       "      <th>quality</th>\n",
       "    </tr>\n",
       "  </thead>\n",
       "  <tbody>\n",
       "    <tr>\n",
       "      <th>0</th>\n",
       "      <td>7.4</td>\n",
       "      <td>0.70</td>\n",
       "      <td>0.00</td>\n",
       "      <td>1.9</td>\n",
       "      <td>0.076</td>\n",
       "      <td>11.0</td>\n",
       "      <td>34.0</td>\n",
       "      <td>0.9978</td>\n",
       "      <td>3.51</td>\n",
       "      <td>0.56</td>\n",
       "      <td>9.4</td>\n",
       "      <td>5</td>\n",
       "    </tr>\n",
       "    <tr>\n",
       "      <th>1</th>\n",
       "      <td>7.8</td>\n",
       "      <td>0.88</td>\n",
       "      <td>0.00</td>\n",
       "      <td>2.6</td>\n",
       "      <td>0.098</td>\n",
       "      <td>25.0</td>\n",
       "      <td>67.0</td>\n",
       "      <td>0.9968</td>\n",
       "      <td>3.20</td>\n",
       "      <td>0.68</td>\n",
       "      <td>9.8</td>\n",
       "      <td>5</td>\n",
       "    </tr>\n",
       "    <tr>\n",
       "      <th>2</th>\n",
       "      <td>7.8</td>\n",
       "      <td>0.76</td>\n",
       "      <td>0.04</td>\n",
       "      <td>2.3</td>\n",
       "      <td>0.092</td>\n",
       "      <td>15.0</td>\n",
       "      <td>54.0</td>\n",
       "      <td>0.9970</td>\n",
       "      <td>3.26</td>\n",
       "      <td>0.65</td>\n",
       "      <td>9.8</td>\n",
       "      <td>5</td>\n",
       "    </tr>\n",
       "    <tr>\n",
       "      <th>3</th>\n",
       "      <td>11.2</td>\n",
       "      <td>0.28</td>\n",
       "      <td>0.56</td>\n",
       "      <td>1.9</td>\n",
       "      <td>0.075</td>\n",
       "      <td>17.0</td>\n",
       "      <td>60.0</td>\n",
       "      <td>0.9980</td>\n",
       "      <td>3.16</td>\n",
       "      <td>0.58</td>\n",
       "      <td>9.8</td>\n",
       "      <td>6</td>\n",
       "    </tr>\n",
       "    <tr>\n",
       "      <th>4</th>\n",
       "      <td>7.4</td>\n",
       "      <td>0.70</td>\n",
       "      <td>0.00</td>\n",
       "      <td>1.9</td>\n",
       "      <td>0.076</td>\n",
       "      <td>11.0</td>\n",
       "      <td>34.0</td>\n",
       "      <td>0.9978</td>\n",
       "      <td>3.51</td>\n",
       "      <td>0.56</td>\n",
       "      <td>9.4</td>\n",
       "      <td>5</td>\n",
       "    </tr>\n",
       "  </tbody>\n",
       "</table>\n",
       "</div>"
      ],
      "text/plain": [
       "   fixed acidity  volatile acidity  citric acid  residual sugar  chlorides  \\\n",
       "0            7.4              0.70         0.00             1.9      0.076   \n",
       "1            7.8              0.88         0.00             2.6      0.098   \n",
       "2            7.8              0.76         0.04             2.3      0.092   \n",
       "3           11.2              0.28         0.56             1.9      0.075   \n",
       "4            7.4              0.70         0.00             1.9      0.076   \n",
       "\n",
       "   free sulfur dioxide  total sulfur dioxide  density    pH  sulphates  \\\n",
       "0                 11.0                  34.0   0.9978  3.51       0.56   \n",
       "1                 25.0                  67.0   0.9968  3.20       0.68   \n",
       "2                 15.0                  54.0   0.9970  3.26       0.65   \n",
       "3                 17.0                  60.0   0.9980  3.16       0.58   \n",
       "4                 11.0                  34.0   0.9978  3.51       0.56   \n",
       "\n",
       "   alcohol  quality  \n",
       "0      9.4        5  \n",
       "1      9.8        5  \n",
       "2      9.8        5  \n",
       "3      9.8        6  \n",
       "4      9.4        5  "
      ]
     },
     "execution_count": 4,
     "metadata": {},
     "output_type": "execute_result"
    }
   ],
   "source": [
    "data_copy.head()"
   ]
  },
  {
   "cell_type": "code",
   "execution_count": 5,
   "id": "46992a39",
   "metadata": {},
   "outputs": [
    {
     "name": "stderr",
     "output_type": "stream",
     "text": [
      "C:\\Users\\mahen\\anaconda3\\lib\\site-packages\\seaborn\\distributions.py:2619: FutureWarning: `distplot` is a deprecated function and will be removed in a future version. Please adapt your code to use either `displot` (a figure-level function with similar flexibility) or `histplot` (an axes-level function for histograms).\n",
      "  warnings.warn(msg, FutureWarning)\n"
     ]
    },
    {
     "data": {
      "text/plain": [
       "<AxesSubplot:xlabel='volatile acidity', ylabel='Density'>"
      ]
     },
     "execution_count": 5,
     "metadata": {},
     "output_type": "execute_result"
    },
    {
     "data": {
      "image/png": "[encoded data removed]",
      "text/plain": [
       "<Figure size 640x480 with 1 Axes>"
      ]
     },
     "metadata": {},
     "output_type": "display_data"
    }
   ],
   "source": [
    "import seaborn as sns \n",
    "sns.distplot(data_copy[\"volatile acidity\"])"
   ]
  },
  {
   "cell_type": "code",
   "execution_count": 6,
   "id": "39ee7e1e",
   "metadata": {},
   "outputs": [
    {
     "name": "stderr",
     "output_type": "stream",
     "text": [
      "C:\\Users\\mahen\\anaconda3\\lib\\site-packages\\seaborn\\distributions.py:2619: FutureWarning: `distplot` is a deprecated function and will be removed in a future version. Please adapt your code to use either `displot` (a figure-level function with similar flexibility) or `histplot` (an axes-level function for histograms).\n",
      "  warnings.warn(msg, FutureWarning)\n"
     ]
    },
    {
     "data": {
      "text/plain": [
       "<AxesSubplot:xlabel='citric acid', ylabel='Density'>"
      ]
     },
     "execution_count": 6,
     "metadata": {},
     "output_type": "execute_result"
    },
    {
     "data": {
      "image/png": "[encoded data removed]",
      "text/plain": [
       "<Figure size 640x480 with 1 Axes>"
      ]
     },
     "metadata": {},
     "output_type": "display_data"
    }
   ],
   "source": [
    "import seaborn as sns \n",
    "sns.distplot(data_copy[\"citric acid\"] , color = 'orange')"
   ]
  },
  {
   "cell_type": "markdown",
   "id": "4f7096ce",
   "metadata": {},
   "source": [
    "### We use shapiro wilk test to check the normality of the data"
   ]
  },
  {
   "cell_type": "code",
   "execution_count": 7,
   "id": "d8fa450c",
   "metadata": {},
   "outputs": [],
   "source": [
    "#  If P_value <= Alpha_value WE can say the data is not normally distributed \n",
    "#  If P_value > Alpha_value   WE can say the data is normally distributed  "
   ]
  },
  {
   "cell_type": "code",
   "execution_count": 8,
   "id": "02c30422",
   "metadata": {},
   "outputs": [
    {
     "data": {
      "text/plain": [
       "ShapiroResult(statistic=0.955294668674469, pvalue=1.0233944777578548e-21)"
      ]
     },
     "execution_count": 8,
     "metadata": {},
     "output_type": "execute_result"
    }
   ],
   "source": [
    "# 1st test\n",
    "from scipy import stats\n",
    "stats.shapiro(data_copy[\"citric acid\"])\n",
    "# By deafault it find the p - value based on 95% of confidance interval\n",
    "# Or based on 0.05 sigficance level"
   ]
  },
  {
   "cell_type": "code",
   "execution_count": 9,
   "id": "5f094b53",
   "metadata": {},
   "outputs": [
    {
     "data": {
      "text/plain": [
       "ShapiroResult(statistic=0.9743338823318481, pvalue=2.686385373947307e-16)"
      ]
     },
     "execution_count": 9,
     "metadata": {},
     "output_type": "execute_result"
    }
   ],
   "source": [
    "stats.shapiro(data_copy[\"volatile acidity\"])\n",
    "# statistic=0.9743338823318481 it is the z-test value"
   ]
  },
  {
   "cell_type": "code",
   "execution_count": 10,
   "id": "bcec9f62",
   "metadata": {},
   "outputs": [],
   "source": [
    "# Importing the 500 points which follows the normal \n",
    "# distribution \n",
    "\n",
    "from numpy.random import randn\n",
    "mydata = randn(500)"
   ]
  },
  {
   "cell_type": "code",
   "execution_count": 11,
   "id": "c0ea4bfb",
   "metadata": {},
   "outputs": [
    {
     "name": "stderr",
     "output_type": "stream",
     "text": [
      "C:\\Users\\mahen\\anaconda3\\lib\\site-packages\\seaborn\\distributions.py:2619: FutureWarning: `distplot` is a deprecated function and will be removed in a future version. Please adapt your code to use either `displot` (a figure-level function with similar flexibility) or `histplot` (an axes-level function for histograms).\n",
      "  warnings.warn(msg, FutureWarning)\n"
     ]
    },
    {
     "data": {
      "text/plain": [
       "<AxesSubplot:ylabel='Density'>"
      ]
     },
     "execution_count": 11,
     "metadata": {},
     "output_type": "execute_result"
    },
    {
     "data": {
      "image/png": "[encoded data removed]",
      "text/plain": [
       "<Figure size 640x480 with 1 Axes>"
      ]
     },
     "metadata": {},
     "output_type": "display_data"
    }
   ],
   "source": [
    "sns.distplot(mydata)"
   ]
  },
  {
   "cell_type": "code",
   "execution_count": 12,
   "id": "11b32e08",
   "metadata": {},
   "outputs": [
    {
     "data": {
      "text/plain": [
       "ShapiroResult(statistic=0.9974315166473389, pvalue=0.6373480558395386)"
      ]
     },
     "execution_count": 12,
     "metadata": {},
     "output_type": "execute_result"
    }
   ],
   "source": [
    "stats.shapiro(mydata)\n",
    "# P_value > Alpha \n",
    "# We can say that the data is normally distributed"
   ]
  },
  {
   "cell_type": "code",
   "execution_count": 13,
   "id": "09860694",
   "metadata": {},
   "outputs": [
    {
     "name": "stdout",
     "output_type": "stream",
     "text": [
      "We accept the null hypothesis\n"
     ]
    }
   ],
   "source": [
    "# what is my null hyphothesis?\n",
    "# null hypothesis that the data was drawn from a normal distribution.\n",
    "\n",
    "P_value = stats.shapiro(mydata)\n",
    "\n",
    "if P_value[1] <= 0.05 :\n",
    "    print(\"We reject the null hypotheisis\")\n",
    "else :\n",
    "     print(\"We accept the null hypothesis\")"
   ]
  },
  {
   "cell_type": "code",
   "execution_count": 14,
   "id": "d43fbe44",
   "metadata": {},
   "outputs": [
    {
     "data": {
      "text/plain": [
       "NormaltestResult(statistic=152.039214793795, pvalue=9.662822259281018e-34)"
      ]
     },
     "execution_count": 14,
     "metadata": {},
     "output_type": "execute_result"
    }
   ],
   "source": [
    "# 2nd test\n",
    "from scipy import stats\n",
    "stats.normaltest(data_copy[\"citric acid\"])\n",
    "# By deafault it find the p - value based on 95% of confidance interval\n",
    "# Or based on 0.05 sigficance level"
   ]
  },
  {
   "cell_type": "code",
   "execution_count": 15,
   "id": "990fdcf5",
   "metadata": {},
   "outputs": [
    {
     "data": {
      "text/plain": [
       "NormaltestResult(statistic=2.1836144932541077, pvalue=0.3356094163170377)"
      ]
     },
     "execution_count": 15,
     "metadata": {},
     "output_type": "execute_result"
    }
   ],
   "source": [
    "from scipy import stats\n",
    "stats.normaltest(mydata)\n",
    "# Here the p_value > 0.05 then we can say that\n",
    "# Our data is normally distributed"
   ]
  },
  {
   "cell_type": "code",
   "execution_count": 16,
   "id": "942e3909",
   "metadata": {},
   "outputs": [],
   "source": [
    "# Creating the data which match the following criteria\n",
    "sample_mean_iq = 110 \n",
    "alpha = 0.05\n",
    "ci = 0.95\n",
    "mean_std_dev = 15\n",
    "mean_population = 100"
   ]
  },
  {
   "cell_type": "code",
   "execution_count": 17,
   "id": "8c9afe4a",
   "metadata": {},
   "outputs": [],
   "source": [
    "# creating the data\n",
    "data = mean_std_dev*randn(50)+mean_population"
   ]
  },
  {
   "cell_type": "code",
   "execution_count": 18,
   "id": "e3a41a0f",
   "metadata": {},
   "outputs": [
    {
     "data": {
      "text/plain": [
       "100.43390381560994"
      ]
     },
     "execution_count": 18,
     "metadata": {},
     "output_type": "execute_result"
    }
   ],
   "source": [
    "import numpy as np\n",
    "np.mean(data)"
   ]
  },
  {
   "cell_type": "code",
   "execution_count": 19,
   "id": "bb279063",
   "metadata": {},
   "outputs": [
    {
     "data": {
      "text/plain": [
       "15.394126907024065"
      ]
     },
     "execution_count": 19,
     "metadata": {},
     "output_type": "execute_result"
    }
   ],
   "source": [
    "np.std(data)"
   ]
  },
  {
   "cell_type": "code",
   "execution_count": 20,
   "id": "04dc034f",
   "metadata": {},
   "outputs": [],
   "source": [
    "null_value = 100\n",
    "# This is the null hypothesis value"
   ]
  },
  {
   "cell_type": "code",
   "execution_count": 21,
   "id": "3dd42a2c",
   "metadata": {},
   "outputs": [
    {
     "data": {
      "text/plain": [
       "(0.19730425295400716, 0.4217947256946021)"
      ]
     },
     "execution_count": 21,
     "metadata": {},
     "output_type": "execute_result"
    }
   ],
   "source": [
    "from statsmodels.stats.weightstats import ztest\n",
    "ztest(data , value = null_value , alternative = 'larger')\n",
    "# Here the 0.4217947256946021 > 0.05 so we have to accept the null\n",
    "# hypothesis"
   ]
  },
  {
   "cell_type": "code",
   "execution_count": null,
   "id": "3b981d0d",
   "metadata": {},
   "outputs": [],
   "source": [
    "# valuefloat\n",
    "# In the one sample case, value is the mean of x1 under the Null hypothesis. \n",
    "# In the two sample case, value is the difference between mean of x1\n",
    "# and mean of x2 under the Null hypothesis. \n",
    "# The test statistic is x1_mean - x2_mean - value."
   ]
  },
  {
   "cell_type": "markdown",
   "id": "3ad20ec4",
   "metadata": {},
   "source": [
    "### T - Test \n",
    "\n",
    "#### when we use T - Test \n",
    "#### When sample size less than 30\n",
    "#### When pop var/pop std won't be there"
   ]
  },
  {
   "cell_type": "markdown",
   "id": "f6e6c10f",
   "metadata": {},
   "source": [
    "#### Types of T - Test "
   ]
  },
  {
   "cell_type": "code",
   "execution_count": 22,
   "id": "5e325733",
   "metadata": {},
   "outputs": [],
   "source": [
    "# one-sample t test(with respect to one independent sample)\n",
    "# two-sample t test(with respect to two independent sample)\n",
    "# paired t-test(two sample from the sample population on different time interval)"
   ]
  },
  {
   "cell_type": "code",
   "execution_count": 23,
   "id": "bd5ee2c9",
   "metadata": {},
   "outputs": [],
   "source": [
    "# Generating the population data \n",
    "population = np.random.randint(10 , 50 , 50)"
   ]
  },
  {
   "cell_type": "code",
   "execution_count": 24,
   "id": "02023371",
   "metadata": {},
   "outputs": [],
   "source": [
    "# taking the random sample from the population \n",
    "sample1 = np.random.choice(population,20)"
   ]
  },
  {
   "cell_type": "code",
   "execution_count": 25,
   "id": "6af1991c",
   "metadata": {},
   "outputs": [],
   "source": [
    "# taking the random sample from the population\n",
    "sample2 = np.random.choice(population,20)"
   ]
  },
  {
   "cell_type": "code",
   "execution_count": 26,
   "id": "52bd2479",
   "metadata": {},
   "outputs": [
    {
     "data": {
      "text/plain": [
       "array([16, 15, 27, 43, 29, 17, 48, 16, 28, 13, 24, 17, 12, 17, 31, 48, 22,\n",
       "       24, 37, 29])"
      ]
     },
     "execution_count": 26,
     "metadata": {},
     "output_type": "execute_result"
    }
   ],
   "source": [
    "sample1"
   ]
  },
  {
   "cell_type": "code",
   "execution_count": 27,
   "id": "58dd23ef",
   "metadata": {},
   "outputs": [
    {
     "data": {
      "text/plain": [
       "array([48, 11, 28, 33, 22, 13, 11, 11, 14, 17, 34, 22, 48, 12, 31, 48, 15,\n",
       "       40, 29, 24])"
      ]
     },
     "execution_count": 27,
     "metadata": {},
     "output_type": "execute_result"
    }
   ],
   "source": [
    "sample2"
   ]
  },
  {
   "cell_type": "code",
   "execution_count": 28,
   "id": "72cfc304",
   "metadata": {},
   "outputs": [
    {
     "data": {
      "text/plain": [
       "25.65"
      ]
     },
     "execution_count": 28,
     "metadata": {},
     "output_type": "execute_result"
    }
   ],
   "source": [
    "# computing the mean of two sampples \n",
    "sample1.mean()"
   ]
  },
  {
   "cell_type": "code",
   "execution_count": 29,
   "id": "ff4d95c0",
   "metadata": {},
   "outputs": [
    {
     "data": {
      "text/plain": [
       "25.55"
      ]
     },
     "execution_count": 29,
     "metadata": {},
     "output_type": "execute_result"
    }
   ],
   "source": [
    "sample2.mean()"
   ]
  },
  {
   "cell_type": "code",
   "execution_count": 30,
   "id": "9af9c653",
   "metadata": {},
   "outputs": [],
   "source": [
    "# Creating the data with different mean values \n",
    "my_cricket_score = [45, 14, 45, 38, 30, 21, 13, 49, 49, 45, 16, 10, 29, 13, 21, 34, 16, 42, 24, 38]"
   ]
  },
  {
   "cell_type": "code",
   "execution_count": 31,
   "id": "542fa425",
   "metadata": {},
   "outputs": [],
   "source": [
    "dhoni_cricket_score = [45, 14, 80, 38, 16, 28, 70, 49, 32, 45, 20, 24, 29, 10, 21, 34, 16, 42, 34, 38]"
   ]
  },
  {
   "cell_type": "code",
   "execution_count": 32,
   "id": "74efab82",
   "metadata": {},
   "outputs": [
    {
     "data": {
      "text/plain": [
       "29.6"
      ]
     },
     "execution_count": 32,
     "metadata": {},
     "output_type": "execute_result"
    }
   ],
   "source": [
    "# Computing the mean of sample1 \n",
    "np.mean(my_cricket_score)"
   ]
  },
  {
   "cell_type": "code",
   "execution_count": 33,
   "id": "232ddbb8",
   "metadata": {},
   "outputs": [
    {
     "data": {
      "text/plain": [
       "34.25"
      ]
     },
     "execution_count": 33,
     "metadata": {},
     "output_type": "execute_result"
    }
   ],
   "source": [
    "# Computing the mean of sample2\n",
    "np.mean(dhoni_cricket_score)"
   ]
  },
  {
   "cell_type": "code",
   "execution_count": 34,
   "id": "11a063ee",
   "metadata": {},
   "outputs": [],
   "source": [
    "# Null_hypothesis = Sample mean should be 27.35"
   ]
  },
  {
   "cell_type": "markdown",
   "id": "4cd3e67c",
   "metadata": {},
   "source": [
    "#### One sample T-Test"
   ]
  },
  {
   "cell_type": "code",
   "execution_count": 35,
   "id": "716ad829",
   "metadata": {},
   "outputs": [
    {
     "data": {
      "text/plain": [
       "Ttest_1sampResult(statistic=1.5142379664834582, pvalue=0.1464239763832424)"
      ]
     },
     "execution_count": 35,
     "metadata": {},
     "output_type": "execute_result"
    }
   ],
   "source": [
    "# Let's Perform one sample T-Test\n",
    "import scipy \n",
    "scipy.stats.ttest_1samp(my_cricket_score , 25)\n",
    "# 25 is the mean_value "
   ]
  },
  {
   "cell_type": "markdown",
   "id": "30eff231",
   "metadata": {},
   "source": [
    "#### Two Sample T - Test "
   ]
  },
  {
   "cell_type": "code",
   "execution_count": 36,
   "id": "26ad10b9",
   "metadata": {},
   "outputs": [],
   "source": [
    "# Two Sample T - Test \n",
    "# with respect to the two independent samples \n",
    "\n",
    "# Taking two independent samples \n",
    "my_cricket_score1=[22, 38, 19, 15, 48, 11, 10, 49, 47, 38, 10, 25, 46, 10, 21, 24, 29,36, 25, 24]\n",
    "\n",
    "virat_cricket_score1=[33, 45, 23, 25, 46, 46, 46, 49, 49, 44, 44, 49, 25, 31, 25, 40, 30,20, 42,34]"
   ]
  },
  {
   "cell_type": "code",
   "execution_count": 37,
   "id": "7bb20a27",
   "metadata": {},
   "outputs": [
    {
     "name": "stdout",
     "output_type": "stream",
     "text": [
      "27.35 37.3\n"
     ]
    }
   ],
   "source": [
    "# Computing the mean of two samples \n",
    "print( np.mean(my_cricket_score1) , np.mean(virat_cricket_score1))"
   ]
  },
  {
   "cell_type": "code",
   "execution_count": 38,
   "id": "c4951f94",
   "metadata": {},
   "outputs": [],
   "source": [
    "# In Two Sample T - Test \n",
    "# The null hypothesis will be \n",
    "# mean_of sample1 = mean_of sample2 \n",
    "# in our case \n",
    "# np.mean(my_cricket_score) = np.mean(dhoni_cricket_score)"
   ]
  },
  {
   "cell_type": "code",
   "execution_count": 39,
   "id": "a7e2114e",
   "metadata": {},
   "outputs": [
    {
     "data": {
      "text/plain": [
       "Ttest_indResult(statistic=-2.6580629865225425, pvalue=0.011434444713156567)"
      ]
     },
     "execution_count": 39,
     "metadata": {},
     "output_type": "execute_result"
    }
   ],
   "source": [
    "# let's perform the test Two Sample T - Test \n",
    "scipy.stats.ttest_ind(my_cricket_score1 , virat_cricket_score1)"
   ]
  },
  {
   "cell_type": "code",
   "execution_count": 130,
   "id": "8c6d5aec",
   "metadata": {},
   "outputs": [],
   "source": [
    "# we are going to reject the null hyphothesis\n",
    "# p_value<=0.05\n",
    "#if P_value we are going to accept the null hyphgothesis\n",
    "# p_value>0.05"
   ]
  },
  {
   "cell_type": "code",
   "execution_count": 40,
   "id": "5ab8d631",
   "metadata": {},
   "outputs": [
    {
     "data": {
      "text/plain": [
       "True"
      ]
     },
     "execution_count": 40,
     "metadata": {},
     "output_type": "execute_result"
    }
   ],
   "source": [
    "0.011434444713156567<= 0.05\n",
    "# We have to reject the null hypothesis"
   ]
  },
  {
   "cell_type": "markdown",
   "id": "84b929bf",
   "metadata": {},
   "source": [
    "#### Paired t-test(two sample from the sample population on different time interval)"
   ]
  },
  {
   "cell_type": "code",
   "execution_count": 41,
   "id": "6ff6d184",
   "metadata": {},
   "outputs": [],
   "source": [
    "my_cricket_score_from_first_inning=[22, 38, 19, 15, 48, 11, 10, 49, 47, 38, 10, 25, 46, 10, 21, 24, 29,36, 25, 24]\n",
    "my_cricket_score_from_second_inning=[22, 38, 29, 15, 18, 11, 10, 49, 47, 38, 50, 45, 46, 40, 21, 24, 29,16, 25, 24]"
   ]
  },
  {
   "cell_type": "code",
   "execution_count": 42,
   "id": "284b7b38",
   "metadata": {},
   "outputs": [
    {
     "name": "stdout",
     "output_type": "stream",
     "text": [
      "27.35\n",
      "29.85\n"
     ]
    }
   ],
   "source": [
    "print(np.mean(my_cricket_score_from_first_inning))\n",
    "print(np.mean(my_cricket_score_from_second_inning))"
   ]
  },
  {
   "cell_type": "code",
   "execution_count": 43,
   "id": "6dacb710",
   "metadata": {},
   "outputs": [
    {
     "data": {
      "text/plain": [
       "Ttest_relResult(statistic=-0.7542295906745516, pvalue=0.45995773816634733)"
      ]
     },
     "execution_count": 43,
     "metadata": {},
     "output_type": "execute_result"
    }
   ],
   "source": [
    "scipy.stats.ttest_rel(my_cricket_score_from_first_inning,my_cricket_score_from_second_inning)"
   ]
  },
  {
   "cell_type": "code",
   "execution_count": 44,
   "id": "ea374f43",
   "metadata": {},
   "outputs": [
    {
     "data": {
      "text/plain": [
       "True"
      ]
     },
     "execution_count": 44,
     "metadata": {},
     "output_type": "execute_result"
    }
   ],
   "source": [
    "0.45995773816634733 > 0.05\n",
    "# Here we are going to accept the null hypothesis"
   ]
  },
  {
   "cell_type": "markdown",
   "id": "14ae8568",
   "metadata": {},
   "source": [
    "#### CHI -SQURE TEST"
   ]
  },
  {
   "cell_type": "code",
   "execution_count": 45,
   "id": "6b989d2d",
   "metadata": {},
   "outputs": [],
   "source": [
    "# CHI SQURE TEST is mainly used for the categorical data \n",
    "# To check the relation between two variables \n",
    "\n",
    "import seaborn as sns \n",
    "dataset = sns.load_dataset(\"tips\")"
   ]
  },
  {
   "cell_type": "code",
   "execution_count": 46,
   "id": "4b3a4b12",
   "metadata": {},
   "outputs": [
    {
     "data": {
      "text/html": [
       "<div>\n",
       "<style scoped>\n",
       "    .dataframe tbody tr th:only-of-type {\n",
       "        vertical-align: middle;\n",
       "    }\n",
       "\n",
       "    .dataframe tbody tr th {\n",
       "        vertical-align: top;\n",
       "    }\n",
       "\n",
       "    .dataframe thead th {\n",
       "        text-align: right;\n",
       "    }\n",
       "</style>\n",
       "<table border=\"1\" class=\"dataframe\">\n",
       "  <thead>\n",
       "    <tr style=\"text-align: right;\">\n",
       "      <th></th>\n",
       "      <th>total_bill</th>\n",
       "      <th>tip</th>\n",
       "      <th>sex</th>\n",
       "      <th>smoker</th>\n",
       "      <th>day</th>\n",
       "      <th>time</th>\n",
       "      <th>size</th>\n",
       "    </tr>\n",
       "  </thead>\n",
       "  <tbody>\n",
       "    <tr>\n",
       "      <th>0</th>\n",
       "      <td>16.99</td>\n",
       "      <td>1.01</td>\n",
       "      <td>Female</td>\n",
       "      <td>No</td>\n",
       "      <td>Sun</td>\n",
       "      <td>Dinner</td>\n",
       "      <td>2</td>\n",
       "    </tr>\n",
       "    <tr>\n",
       "      <th>1</th>\n",
       "      <td>10.34</td>\n",
       "      <td>1.66</td>\n",
       "      <td>Male</td>\n",
       "      <td>No</td>\n",
       "      <td>Sun</td>\n",
       "      <td>Dinner</td>\n",
       "      <td>3</td>\n",
       "    </tr>\n",
       "    <tr>\n",
       "      <th>2</th>\n",
       "      <td>21.01</td>\n",
       "      <td>3.50</td>\n",
       "      <td>Male</td>\n",
       "      <td>No</td>\n",
       "      <td>Sun</td>\n",
       "      <td>Dinner</td>\n",
       "      <td>3</td>\n",
       "    </tr>\n",
       "    <tr>\n",
       "      <th>3</th>\n",
       "      <td>23.68</td>\n",
       "      <td>3.31</td>\n",
       "      <td>Male</td>\n",
       "      <td>No</td>\n",
       "      <td>Sun</td>\n",
       "      <td>Dinner</td>\n",
       "      <td>2</td>\n",
       "    </tr>\n",
       "    <tr>\n",
       "      <th>4</th>\n",
       "      <td>24.59</td>\n",
       "      <td>3.61</td>\n",
       "      <td>Female</td>\n",
       "      <td>No</td>\n",
       "      <td>Sun</td>\n",
       "      <td>Dinner</td>\n",
       "      <td>4</td>\n",
       "    </tr>\n",
       "  </tbody>\n",
       "</table>\n",
       "</div>"
      ],
      "text/plain": [
       "   total_bill   tip     sex smoker  day    time  size\n",
       "0       16.99  1.01  Female     No  Sun  Dinner     2\n",
       "1       10.34  1.66    Male     No  Sun  Dinner     3\n",
       "2       21.01  3.50    Male     No  Sun  Dinner     3\n",
       "3       23.68  3.31    Male     No  Sun  Dinner     2\n",
       "4       24.59  3.61  Female     No  Sun  Dinner     4"
      ]
     },
     "execution_count": 46,
     "metadata": {},
     "output_type": "execute_result"
    }
   ],
   "source": [
    "dataset.head()"
   ]
  },
  {
   "cell_type": "code",
   "execution_count": 47,
   "id": "041a8876",
   "metadata": {},
   "outputs": [
    {
     "data": {
      "text/html": [
       "<div>\n",
       "<style scoped>\n",
       "    .dataframe tbody tr th:only-of-type {\n",
       "        vertical-align: middle;\n",
       "    }\n",
       "\n",
       "    .dataframe tbody tr th {\n",
       "        vertical-align: top;\n",
       "    }\n",
       "\n",
       "    .dataframe thead th {\n",
       "        text-align: right;\n",
       "    }\n",
       "</style>\n",
       "<table border=\"1\" class=\"dataframe\">\n",
       "  <thead>\n",
       "    <tr style=\"text-align: right;\">\n",
       "      <th>smoker</th>\n",
       "      <th>Yes</th>\n",
       "      <th>No</th>\n",
       "    </tr>\n",
       "    <tr>\n",
       "      <th>sex</th>\n",
       "      <th></th>\n",
       "      <th></th>\n",
       "    </tr>\n",
       "  </thead>\n",
       "  <tbody>\n",
       "    <tr>\n",
       "      <th>Male</th>\n",
       "      <td>60</td>\n",
       "      <td>97</td>\n",
       "    </tr>\n",
       "    <tr>\n",
       "      <th>Female</th>\n",
       "      <td>33</td>\n",
       "      <td>54</td>\n",
       "    </tr>\n",
       "  </tbody>\n",
       "</table>\n",
       "</div>"
      ],
      "text/plain": [
       "smoker  Yes  No\n",
       "sex            \n",
       "Male     60  97\n",
       "Female   33  54"
      ]
     },
     "execution_count": 47,
     "metadata": {},
     "output_type": "execute_result"
    }
   ],
   "source": [
    "pd.crosstab(dataset['sex'] , dataset['smoker'])\n",
    "# It gives the total values related to each other\n",
    "# It gives the analysis that how many males and females \n",
    "# smokers or nonsmoker"
   ]
  },
  {
   "cell_type": "code",
   "execution_count": 50,
   "id": "14bd2563",
   "metadata": {},
   "outputs": [],
   "source": [
    "dataset_table = pd.crosstab(dataset['sex'] , dataset['smoker'])"
   ]
  },
  {
   "cell_type": "code",
   "execution_count": 52,
   "id": "94824f37",
   "metadata": {},
   "outputs": [],
   "source": [
    "# This is the observed values \n",
    "dataset_array = dataset_table.values"
   ]
  },
  {
   "cell_type": "code",
   "execution_count": 53,
   "id": "69fa4570",
   "metadata": {},
   "outputs": [
    {
     "data": {
      "text/plain": [
       "array([[60, 97],\n",
       "       [33, 54]], dtype=int64)"
      ]
     },
     "execution_count": 53,
     "metadata": {},
     "output_type": "execute_result"
    }
   ],
   "source": [
    "dataset_array"
   ]
  },
  {
   "cell_type": "code",
   "execution_count": 54,
   "id": "e7df3cad",
   "metadata": {},
   "outputs": [
    {
     "name": "stdout",
     "output_type": "stream",
     "text": [
      "data set observed values(real values) : \n",
      " [[60 97]\n",
      " [33 54]]\n"
     ]
    }
   ],
   "source": [
    "print(f\"data set observed values(real values) : \\n {dataset_array}\")"
   ]
  },
  {
   "cell_type": "code",
   "execution_count": 55,
   "id": "400bd800",
   "metadata": {},
   "outputs": [],
   "source": [
    "import scipy.stats as stats"
   ]
  },
  {
   "cell_type": "code",
   "execution_count": 56,
   "id": "d4dcf657",
   "metadata": {},
   "outputs": [
    {
     "data": {
      "text/plain": [
       "(0.0,\n",
       " 1.0,\n",
       " 1,\n",
       " array([[59.84016393, 97.15983607],\n",
       "        [33.15983607, 53.84016393]]))"
      ]
     },
     "execution_count": 56,
     "metadata": {},
     "output_type": "execute_result"
    }
   ],
   "source": [
    "# This are expected values \n",
    "stats.chi2_contingency(dataset_array)"
   ]
  },
  {
   "cell_type": "code",
   "execution_count": 57,
   "id": "4a7ae02d",
   "metadata": {},
   "outputs": [],
   "source": [
    "stats_test,p,dof,expected_values = stats.chi2_contingency(dataset_array)"
   ]
  },
  {
   "cell_type": "code",
   "execution_count": 58,
   "id": "3bf2433a",
   "metadata": {},
   "outputs": [
    {
     "data": {
      "text/plain": [
       "1.0"
      ]
     },
     "execution_count": 58,
     "metadata": {},
     "output_type": "execute_result"
    }
   ],
   "source": [
    "p\n",
    "# p_value"
   ]
  },
  {
   "cell_type": "code",
   "execution_count": 59,
   "id": "82c0b640",
   "metadata": {},
   "outputs": [
    {
     "data": {
      "text/plain": [
       "1"
      ]
     },
     "execution_count": 59,
     "metadata": {},
     "output_type": "execute_result"
    }
   ],
   "source": [
    "dof\n",
    "# Degree of freedom"
   ]
  },
  {
   "cell_type": "code",
   "execution_count": 60,
   "id": "acd042a4",
   "metadata": {},
   "outputs": [
    {
     "data": {
      "text/plain": [
       "array([[59.84016393, 97.15983607],\n",
       "       [33.15983607, 53.84016393]])"
      ]
     },
     "execution_count": 60,
     "metadata": {},
     "output_type": "execute_result"
    }
   ],
   "source": [
    "expected_values"
   ]
  },
  {
   "cell_type": "code",
   "execution_count": 61,
   "id": "9128364d",
   "metadata": {},
   "outputs": [
    {
     "name": "stdout",
     "output_type": "stream",
     "text": [
      "data set observed values(real values) : \n",
      " [[60 97]\n",
      " [33 54]]\n"
     ]
    }
   ],
   "source": [
    "print(f\"data set observed values(real values) : \\n {dataset_array}\")\n",
    "# Obeserved values "
   ]
  },
  {
   "cell_type": "code",
   "execution_count": 62,
   "id": "14a925c3",
   "metadata": {},
   "outputs": [
    {
     "data": {
      "text/html": [
       "<div>\n",
       "<style scoped>\n",
       "    .dataframe tbody tr th:only-of-type {\n",
       "        vertical-align: middle;\n",
       "    }\n",
       "\n",
       "    .dataframe tbody tr th {\n",
       "        vertical-align: top;\n",
       "    }\n",
       "\n",
       "    .dataframe thead th {\n",
       "        text-align: right;\n",
       "    }\n",
       "</style>\n",
       "<table border=\"1\" class=\"dataframe\">\n",
       "  <thead>\n",
       "    <tr style=\"text-align: right;\">\n",
       "      <th>smoker</th>\n",
       "      <th>Yes</th>\n",
       "      <th>No</th>\n",
       "    </tr>\n",
       "    <tr>\n",
       "      <th>sex</th>\n",
       "      <th></th>\n",
       "      <th></th>\n",
       "    </tr>\n",
       "  </thead>\n",
       "  <tbody>\n",
       "    <tr>\n",
       "      <th>Male</th>\n",
       "      <td>60</td>\n",
       "      <td>97</td>\n",
       "    </tr>\n",
       "    <tr>\n",
       "      <th>Female</th>\n",
       "      <td>33</td>\n",
       "      <td>54</td>\n",
       "    </tr>\n",
       "  </tbody>\n",
       "</table>\n",
       "</div>"
      ],
      "text/plain": [
       "smoker  Yes  No\n",
       "sex            \n",
       "Male     60  97\n",
       "Female   33  54"
      ]
     },
     "execution_count": 62,
     "metadata": {},
     "output_type": "execute_result"
    }
   ],
   "source": [
    "dataset_table"
   ]
  },
  {
   "cell_type": "code",
   "execution_count": 63,
   "id": "b2c2a434",
   "metadata": {},
   "outputs": [
    {
     "data": {
      "text/plain": [
       "sex\n",
       "Male      60\n",
       "Female    33\n",
       "Name: Yes, dtype: int64"
      ]
     },
     "execution_count": 63,
     "metadata": {},
     "output_type": "execute_result"
    }
   ],
   "source": [
    "# To get the rows from selected data\n",
    "dataset_table.iloc[0:2,0]"
   ]
  },
  {
   "cell_type": "code",
   "execution_count": 64,
   "id": "92de8386",
   "metadata": {},
   "outputs": [
    {
     "data": {
      "text/plain": [
       "smoker\n",
       "Yes    60\n",
       "No     97\n",
       "Name: Male, dtype: int64"
      ]
     },
     "execution_count": 64,
     "metadata": {},
     "output_type": "execute_result"
    }
   ],
   "source": [
    "# To get the cols from selected data\n",
    "dataset_table.iloc[0,0:2]"
   ]
  },
  {
   "cell_type": "code",
   "execution_count": 65,
   "id": "30984550",
   "metadata": {},
   "outputs": [],
   "source": [
    "no_of_rows = dataset_table.iloc[0:2,0]\n",
    "no_of_col = dataset_table.iloc[0,0:2]"
   ]
  },
  {
   "cell_type": "code",
   "execution_count": 66,
   "id": "3ebdc06b",
   "metadata": {},
   "outputs": [
    {
     "data": {
      "text/plain": [
       "sex\n",
       "Male      60\n",
       "Female    33\n",
       "Name: Yes, dtype: int64"
      ]
     },
     "execution_count": 66,
     "metadata": {},
     "output_type": "execute_result"
    }
   ],
   "source": [
    "no_of_rows"
   ]
  },
  {
   "cell_type": "code",
   "execution_count": 67,
   "id": "5d4952c4",
   "metadata": {},
   "outputs": [
    {
     "data": {
      "text/plain": [
       "smoker\n",
       "Yes    60\n",
       "No     97\n",
       "Name: Male, dtype: int64"
      ]
     },
     "execution_count": 67,
     "metadata": {},
     "output_type": "execute_result"
    }
   ],
   "source": [
    "no_of_col"
   ]
  },
  {
   "cell_type": "code",
   "execution_count": 68,
   "id": "233b16e7",
   "metadata": {},
   "outputs": [],
   "source": [
    "# finding the degree of freedom\n",
    "dof = (len(no_of_rows)-1)*(len(no_of_col)-1)"
   ]
  },
  {
   "cell_type": "code",
   "execution_count": 69,
   "id": "917e99f2",
   "metadata": {},
   "outputs": [
    {
     "data": {
      "text/plain": [
       "1"
      ]
     },
     "execution_count": 69,
     "metadata": {},
     "output_type": "execute_result"
    }
   ],
   "source": [
    "dof"
   ]
  },
  {
   "cell_type": "code",
   "execution_count": 70,
   "id": "09158407",
   "metadata": {},
   "outputs": [
    {
     "name": "stdout",
     "output_type": "stream",
     "text": [
      "[[60 97]\n",
      " [33 54]]\n",
      "[[59.84016393 97.15983607]\n",
      " [33.15983607 53.84016393]]\n"
     ]
    }
   ],
   "source": [
    "observed_values = dataset_array\n",
    "print(observed_values)\n",
    "print(expected_values)"
   ]
  },
  {
   "cell_type": "code",
   "execution_count": 71,
   "id": "33887326",
   "metadata": {},
   "outputs": [
    {
     "name": "stdout",
     "output_type": "stream",
     "text": [
      "[60 97] [59.84016393 97.15983607]\n",
      "[33 54] [33.15983607 53.84016393]\n"
     ]
    }
   ],
   "source": [
    "# converting into zip \n",
    "for o,e in zip(observed_values , expected_values) :\n",
    "    print(o,e)"
   ]
  },
  {
   "cell_type": "code",
   "execution_count": 72,
   "id": "22b1a48f",
   "metadata": {},
   "outputs": [],
   "source": [
    "from scipy.stats import chi2\n",
    "chisqure_test=sum([(o-e)**2./e for o,e in zip(observed_values,expected_values)])"
   ]
  },
  {
   "cell_type": "code",
   "execution_count": 73,
   "id": "ecbbe1f9",
   "metadata": {},
   "outputs": [
    {
     "data": {
      "text/plain": [
       "array([0.00119737, 0.00073745])"
      ]
     },
     "execution_count": 73,
     "metadata": {},
     "output_type": "execute_result"
    }
   ],
   "source": [
    "chisqure_test"
   ]
  },
  {
   "cell_type": "code",
   "execution_count": 74,
   "id": "c3992088",
   "metadata": {},
   "outputs": [],
   "source": [
    "# 0.00073745 this is the actual value"
   ]
  },
  {
   "cell_type": "code",
   "execution_count": 75,
   "id": "69a34b51",
   "metadata": {},
   "outputs": [],
   "source": [
    "chi_squre_statistics = sum(chisqure_test)"
   ]
  },
  {
   "cell_type": "code",
   "execution_count": 77,
   "id": "dec98524",
   "metadata": {},
   "outputs": [
    {
     "data": {
      "text/plain": [
       "0.001934818536627623"
      ]
     },
     "execution_count": 77,
     "metadata": {},
     "output_type": "execute_result"
    }
   ],
   "source": [
    "chi_squre_statistics"
   ]
  },
  {
   "cell_type": "code",
   "execution_count": 76,
   "id": "efdcbaeb",
   "metadata": {},
   "outputs": [],
   "source": [
    "# 0.001934818536627623 this is the value which we \n",
    "# have get from the chi squre test"
   ]
  },
  {
   "cell_type": "code",
   "execution_count": 78,
   "id": "10514c2b",
   "metadata": {},
   "outputs": [
    {
     "data": {
      "text/plain": [
       "1"
      ]
     },
     "execution_count": 78,
     "metadata": {},
     "output_type": "execute_result"
    }
   ],
   "source": [
    "# Alpha value\n",
    "alpha = 0.05\n",
    "\n",
    "# degree of freedom\n",
    "dof"
   ]
  },
  {
   "cell_type": "code",
   "execution_count": 79,
   "id": "f2b49ee8",
   "metadata": {},
   "outputs": [],
   "source": [
    "from scipy.stats import chi2\n",
    "critical_value = chi2.ppf( 1- alpha , df = dof)"
   ]
  },
  {
   "cell_type": "code",
   "execution_count": 80,
   "id": "3843f1d7",
   "metadata": {},
   "outputs": [
    {
     "data": {
      "text/plain": [
       "3.841458820694124"
      ]
     },
     "execution_count": 80,
     "metadata": {},
     "output_type": "execute_result"
    }
   ],
   "source": [
    "critical_value"
   ]
  },
  {
   "cell_type": "code",
   "execution_count": null,
   "id": "9f452f05",
   "metadata": {},
   "outputs": [],
   "source": [
    "# Important \n",
    "\n",
    "# 3.841458820694124 -- > this is the critical value \n",
    "# which we always find using the chi squre table with degree \n",
    "# of freedom and alpha value"
   ]
  },
  {
   "cell_type": "code",
   "execution_count": 81,
   "id": "c16ede7c",
   "metadata": {},
   "outputs": [
    {
     "data": {
      "text/plain": [
       "0.001934818536627623"
      ]
     },
     "execution_count": 81,
     "metadata": {},
     "output_type": "execute_result"
    }
   ],
   "source": [
    "chi_squre_statistics"
   ]
  },
  {
   "cell_type": "code",
   "execution_count": 82,
   "id": "50a98c57",
   "metadata": {},
   "outputs": [
    {
     "data": {
      "text/plain": [
       "3.841458820694124"
      ]
     },
     "execution_count": 82,
     "metadata": {},
     "output_type": "execute_result"
    }
   ],
   "source": [
    "critical_value"
   ]
  },
  {
   "cell_type": "code",
   "execution_count": 84,
   "id": "2032021d",
   "metadata": {},
   "outputs": [
    {
     "name": "stdout",
     "output_type": "stream",
     "text": [
      "Retain H0,There is no relationship between 2 categorical variables\n"
     ]
    }
   ],
   "source": [
    "if chi_squre_statistics >= critical_value:\n",
    "    print(\"Reject H0,There is a relationship between 2 categorical variables\")\n",
    "else:\n",
    "    print(\"Retain H0,There is no relationship between 2 categorical variables\")"
   ]
  },
  {
   "cell_type": "code",
   "execution_count": 86,
   "id": "b614cf7a",
   "metadata": {},
   "outputs": [],
   "source": [
    "# To find the p-value\n",
    "p_value=1-chi2.cdf(x=chi_squre_statistics,df=dof)"
   ]
  },
  {
   "cell_type": "code",
   "execution_count": 87,
   "id": "917d56a7",
   "metadata": {},
   "outputs": [
    {
     "data": {
      "text/plain": [
       "0.964915107315732"
      ]
     },
     "execution_count": 87,
     "metadata": {},
     "output_type": "execute_result"
    }
   ],
   "source": [
    "p_value"
   ]
  },
  {
   "cell_type": "code",
   "execution_count": 88,
   "id": "5267e99d",
   "metadata": {},
   "outputs": [
    {
     "name": "stdout",
     "output_type": "stream",
     "text": [
      "Retain H0,There is no relationship between 2 categorical variables\n"
     ]
    }
   ],
   "source": [
    "if p_value<=alpha:\n",
    "    print(\"Reject H0,There is a relationship between 2 categorical variables\")\n",
    "else:\n",
    "    print(\"Retain H0,There is no relationship between 2 categorical variables\")"
   ]
  },
  {
   "cell_type": "code",
   "execution_count": 90,
   "id": "aa91d59c",
   "metadata": {},
   "outputs": [
    {
     "data": {
      "text/plain": [
       "0.05"
      ]
     },
     "execution_count": 90,
     "metadata": {},
     "output_type": "execute_result"
    }
   ],
   "source": [
    "alpha"
   ]
  },
  {
   "cell_type": "code",
   "execution_count": null,
   "id": "47eddf45",
   "metadata": {},
   "outputs": [],
   "source": []
  }
 ],
 "metadata": {
  "kernelspec": {
   "display_name": "Python 3 (ipykernel)",
   "language": "python",
   "name": "python3"
  },
  "language_info": {
   "codemirror_mode": {
    "name": "ipython",
    "version": 3
   },
   "file_extension": ".py",
   "mimetype": "text/x-python",
   "name": "python",
   "nbconvert_exporter": "python",
   "pygments_lexer": "ipython3",
   "version": "3.9.13"
  }
 },
 "nbformat": 4,
 "nbformat_minor": 5
}
